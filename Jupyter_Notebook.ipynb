{
  "metadata": {
    "kernelspec": {
      "name": "python",
      "display_name": "Pyolite",
      "language": "python"
    },
    "language_info": {
      "codemirror_mode": {
        "name": "python",
        "version": 3
      },
      "file_extension": ".py",
      "mimetype": "text/x-python",
      "name": "python",
      "nbconvert_exporter": "python",
      "pygments_lexer": "ipython3",
      "version": "3.8"
    }
  },
  "nbformat_minor": 4,
  "nbformat": 4,
  "cells": [
    {
      "cell_type": "markdown",
      "source": "<center>\n    <img src=\"https://cf-courses-data.s3.us.cloud-object-storage.appdomain.cloud/IBMDeveloperSkillsNetwork-DS0105EN-SkillsNetwork/labs/Module2/images/SN_web_lightmode.png\" width=\"300\" alt=\"cognitiveclass.ai logo\">\n</center>\n",
      "metadata": {}
    },
    {
      "cell_type": "markdown",
      "source": "#### Add your code below following the instructions given in the course\n",
      "metadata": {}
    },
    {
      "cell_type": "markdown",
      "source": "# My Jupyter Notebook on Watson IBM Studio",
      "metadata": {}
    },
    {
      "cell_type": "markdown",
      "source": "__Manuel Liberman__\nData scientist",
      "metadata": {}
    },
    {
      "cell_type": "markdown",
      "source": "_I am interested in data science because I love handling data and interpreting results, and I would also like to answer some questions using experiments_",
      "metadata": {}
    },
    {
      "cell_type": "markdown",
      "source": "### My code will execute a mathematical operation ###",
      "metadata": {}
    },
    {
      "cell_type": "code",
      "source": "2 + 2",
      "metadata": {
        "trusted": true
      },
      "execution_count": 1,
      "outputs": [
        {
          "execution_count": 1,
          "output_type": "execute_result",
          "data": {
            "text/plain": "4"
          },
          "metadata": {}
        }
      ]
    },
    {
      "cell_type": "markdown",
      "source": "1. First term of the operation is two\n2. Second term of the operation is also two\n3. Output equals four",
      "metadata": {}
    },
    {
      "cell_type": "markdown",
      "source": "***",
      "metadata": {}
    },
    {
      "cell_type": "markdown",
      "source": "- This is a simple mathematical operation",
      "metadata": {}
    }
  ]
}